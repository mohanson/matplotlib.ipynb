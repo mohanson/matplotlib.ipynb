{
  "cells": [
    {
      "cell_type": "markdown",
      "id": "2622776b-dd92-4b76-a9a7-f8e0752c1fc8",
      "metadata": {},
      "source": [
        "# 如何使用 Matplotlib 绘制令人赏心悦目的图表"
      ]
    },
    {
      "cell_type": "markdown",
      "id": "790a420f-3515-4511-9ba8-112750d1da89",
      "metadata": {},
      "source": [
        "## 从美国 GDP 数据开始\n",
        "\n",
        "有一天我在我的知乎上刷到了这个问题: [2022 年美国第一季度经济折合年率萎缩 1.4%, 还有哪些信息值得关注? 或受哪些因素导致?](https://www.zhihu.com/question/530511433)\n",
        "\n",
        "问题的信息源是**财联社**:\n",
        "\n",
        "> 美国 2022 年第一季度经济折合年率萎缩 1.4%, 预估为增长 1.1%, 前值为 6.9%.\n",
        "\n",
        "上面这句话似乎给了很多信息, 1.4%, 1.1%, 6.9% ... 但你仔细想想其实它什么都没说, 作为一个经济门外汉几乎无法从中得出对自己有意义的信息.\n",
        "\n",
        "直到有位答主贴了一张图:\n",
        "\n",
        "![img](https://pic1.zhimg.com/80/v2-2ddedb6e4c16178b0a9e52b2308eeb3b_720w.jpg)\n",
        "\n",
        "通过这张图, 读者几乎可以在一秒之内就了解近三年美国的 GDP 变化."
      ]
    },
    {
      "cell_type": "markdown",
      "id": "5cd1f242-b8ca-4736-886c-7aff650c862b",
      "metadata": {},
      "source": [
        "## 一图胜千言\n",
        "\n",
        "\"A picture is worth a thousand words.\"\n",
        "\n",
        "许多重要人物都发表过类似的观点, 例如\n",
        "\n",
        "- 拿破仑曾经说过, \"A good sketch is better than a long speech\". \n",
        "- Leonardo da Vinci: wrote that a poet would be \"overcome by sleep and hunger before [being able to] describe with words what a painter is able to [depict] in an instant.\" (大意: 诗人通过单词描述景象时得克服睡意和饥饿, 而画家则能瞬间描述).\n",
        "- 1913 年在俄亥俄州 Piqua 的 Piqua Auto Supply House 的一份报纸广告中, 出现了类似理念:\n",
        "\n",
        "![img](https://pic3.zhimg.com/80/v2-6d8f6ccd448fd012858fd6d42d2e4a9c_720w.png)\n",
        "\n",
        "为什么图这么重要(<del>有图有真相</del>)?\n",
        "\n",
        "- 我们在视觉上学习和记忆.\n",
        "- 视觉智商的增长速度快于其他形式的智商.\n",
        "- 带有图片的文字影响更大. 在研究演示文稿的类型时, 明尼苏达大学和 3M 的研究人员发现, 包含\"良好\"图形的演示文稿的说服力比纯文本演示文稿高 43%.\n",
        "- 我们没有时间阅读. 尼尔森·诺曼小组研究了用户在网络上的阅读方式, 发现用户仅阅读页面内容的 25%.\n",
        "- 图表可以在更短的时间内传达更多信息.\n",
        "- 视觉信息突破了语言障碍.\n",
        "- 图表有助于设计和规划. 尤其是在研究经济问题, 或者对链上数据进行分析时.\n",
        "- 图表适合所有人."
      ]
    },
    {
      "cell_type": "markdown",
      "id": "2883c9d6-e853-47e8-9597-7c7f5c5fa5f2",
      "metadata": {},
      "source": [
        "## Matplotlib 安利\n",
        "\n",
        "Matplotlib 是一个 Python 绘图库. 无论是技术人员还是非技术人员, 都可以在短时间内快速上手.\n",
        "\n",
        "Python 有一些云端执行环境, 这意味着你可以完全不安装任何软件就能体验到 Matplotlib 的强大! [https://jupyter.org/try-jupyter/lab/](https://jupyter.org/try-jupyter/lab/)"
      ]
    },
    {
      "cell_type": "markdown",
      "id": "800be9d5-f8bd-4765-850b-2c69a4653726",
      "metadata": {
        "tags": []
      },
      "source": [
        "## 折线图"
      ]
    },
    {
      "cell_type": "markdown",
      "id": "5058e57c-6cf3-48c7-806b-4032877a2c3f",
      "metadata": {},
      "source": [
        "**绘制折线图**"
      ]
    },
    {
      "cell_type": "code",
      "execution_count": null,
      "id": "5a44dd64-3f49-40e6-86f3-8838fe0d7552",
      "metadata": {},
      "outputs": [],
      "source": [
        "import matplotlib.pyplot as plt\n",
        "\n",
        "x = [1, 2, 3, 4]\n",
        "y = [2, 4, 6, 8]\n",
        "\n",
        "plt.plot(x, y)\n",
        "plt.show()"
      ]
    },
    {
      "cell_type": "markdown",
      "id": "4c03bc23-9f4f-4eb3-a7bf-e99bcdecb0fc",
      "metadata": {},
      "source": [
        "**皮肤**\n",
        "\n",
        "Matplotlib 默认的皮肤比较寡淡, 我一般喜欢使用 seaborn 皮肤."
      ]
    },
    {
      "cell_type": "code",
      "execution_count": null,
      "id": "4bab5ae8-7861-4e73-a97d-e140f1b5fadb",
      "metadata": {},
      "outputs": [],
      "source": [
        "import numpy as np\n",
        "import matplotlib.pyplot as plt\n",
        "plt.style.use('seaborn')\n",
        "\n",
        "x = np.linspace(-np.pi, np.pi, 256)\n",
        "y = np.sin(x)\n",
        "\n",
        "plt.plot(x, y)\n",
        "plt.show()"
      ]
    },
    {
      "cell_type": "markdown",
      "id": "ef47b0cf-609f-4a75-95a1-5efa4b03d8a8",
      "metadata": {},
      "source": [
        "**折线样式**"
      ]
    },
    {
      "cell_type": "code",
      "execution_count": null,
      "id": "dfb03734-1b0a-46e4-a810-ac7ef510577b",
      "metadata": {},
      "outputs": [],
      "source": [
        "import numpy as np\n",
        "import matplotlib.pyplot as plt\n",
        "plt.style.use('seaborn')\n",
        "\n",
        "x = np.linspace(-np.pi, np.pi, 256)\n",
        "y = np.sin(x)\n",
        "\n",
        "plt.plot(x, y, color='pink', linewidth=2, linestyle='--')\n",
        "plt.show()"
      ]
    },
    {
      "cell_type": "markdown",
      "id": "a9dec55a-46ab-41fd-9661-4cf9d7b491a6",
      "metadata": {},
      "source": [
        "**填充**\n",
        "\n",
        "需要对数据进行积分的时候采用. 例如我们要去统计过去 12 个月内每个月 CKB 的 DAO 内的新增存款."
      ]
    },
    {
      "cell_type": "code",
      "execution_count": null,
      "id": "53dc27e9-c9d9-4ca0-8c4e-bdaa8b6e3ff2",
      "metadata": {},
      "outputs": [],
      "source": [
        "import numpy as np\n",
        "import matplotlib.pyplot as plt\n",
        "plt.style.use('seaborn')\n",
        "\n",
        "x = np.linspace(-np.pi, np.pi, 256)\n",
        "y = np.sin(x)\n",
        "# 参数以 .plot 相似, 区别是会填充曲线的面积, 填充分界线为 y=c(c 为 x = 0 时的数)\n",
        "# alpha 为透明度\n",
        "plt.fill(x, np.sin(x), alpha=0.5)\n",
        "plt.show()"
      ]
    },
    {
      "cell_type": "markdown",
      "id": "962fa258-3a2c-484b-8df9-87ccf6c56cc7",
      "metadata": {},
      "source": [
        "**坐标位置与坐标样式**\n",
        "\n",
        "处理数学问题的时候偶尔会用到, 比如绘制椭圆曲线."
      ]
    },
    {
      "cell_type": "code",
      "execution_count": null,
      "id": "8287198f-422a-43c6-a668-17fcabea662a",
      "metadata": {},
      "outputs": [],
      "source": [
        "import numpy as np\n",
        "import matplotlib.pyplot as plt\n",
        "plt.style.use('seaborn')\n",
        "\n",
        "x = np.linspace(-np.pi, np.pi, 256)\n",
        "y = np.sin(x)\n",
        "ax = plt.subplot()\n",
        "ax.plot(x, y)\n",
        "\n",
        "# 移动坐标轴与设置坐标轴样式\n",
        "ax.spines['bottom'].set_color('#646882')\n",
        "ax.spines['bottom'].set_linewidth(1)\n",
        "ax.spines['bottom'].set_position(('data', 0))\n",
        "ax.spines['left'].set_color('#646882')\n",
        "ax.spines['left'].set_linewidth(1)\n",
        "ax.spines['left'].set_position(('data', 0))\n",
        "\n",
        "plt.show()"
      ]
    },
    {
      "cell_type": "markdown",
      "id": "9a7d00d0-625a-42d7-9b98-6cea47731865",
      "metadata": {},
      "source": [
        "**添加函数名称**"
      ]
    },
    {
      "cell_type": "code",
      "execution_count": null,
      "id": "a3299abf-27b4-4dfc-96a9-a36374d9f9c4",
      "metadata": {},
      "outputs": [],
      "source": [
        "import numpy as np\n",
        "import matplotlib.pyplot as plt\n",
        "plt.style.use('seaborn')\n",
        "\n",
        "x = np.linspace(-np.pi, np.pi, 256)\n",
        "y = np.sin(x)\n",
        "\n",
        "# 为曲线添加名称\n",
        "plt.plot(x, y, label='sin(x)')\n",
        "plt.legend(loc='lower right')\n",
        "plt.show()"
      ]
    },
    {
      "cell_type": "markdown",
      "id": "88c6e8ae-d687-42f2-bd82-6917c3842716",
      "metadata": {},
      "source": [
        "## 散点图\n",
        "\n",
        "主要用于处理离散数据."
      ]
    },
    {
      "cell_type": "code",
      "execution_count": null,
      "id": "264c553a-9387-4b7f-838c-55ff40af0565",
      "metadata": {},
      "outputs": [],
      "source": [
        "import numpy as np\n",
        "import matplotlib.pyplot as plt\n",
        "plt.style.use('seaborn')\n",
        "\n",
        "x = np.linspace(-np.pi, np.pi, 16)\n",
        "y = np.sin(x)\n",
        "\n",
        "# s: 散点大小, 默认 20\n",
        "# c: 颜色\n",
        "# alpha: 透明度\n",
        "plt.scatter(x, y, s=50, c='#FF0000', alpha=0.5)\n",
        "plt.show()"
      ]
    },
    {
      "cell_type": "markdown",
      "id": "faf9977f-3e47-4841-a142-28c6dead9043",
      "metadata": {},
      "source": [
        "**样式**"
      ]
    },
    {
      "cell_type": "code",
      "execution_count": null,
      "id": "614dd17f-3933-4ec8-8809-20ec6ebfc25e",
      "metadata": {},
      "outputs": [],
      "source": [
        "import numpy as np\n",
        "import matplotlib.pyplot as plt\n",
        "plt.style.use('seaborn')\n",
        "\n",
        "x = np.linspace(-np.pi, np.pi, 16)\n",
        "y = np.sin(x)\n",
        "\n",
        "plt.scatter(x, y, s=50, c='#FF0000', marker='+', alpha=0.5)\n",
        "plt.show()"
      ]
    },
    {
      "cell_type": "markdown",
      "id": "9dd53fcf-e1c3-471d-b572-dd54825b5e08",
      "metadata": {},
      "source": [
        "**三维坐标**"
      ]
    },
    {
      "cell_type": "code",
      "execution_count": null,
      "id": "57ec20dc-7fb6-4710-b670-e588b97330f4",
      "metadata": {},
      "outputs": [],
      "source": [
        "import matplotlib.pyplot as plt\n",
        "from mpl_toolkits.mplot3d import Axes3D\n",
        "import numpy as np\n",
        "plt.style.use('seaborn')\n",
        "\n",
        "p = plt.subplot(projection='3d')\n",
        "\n",
        "x = np.linspace(-np.pi, np.pi, 16)\n",
        "y = np.sin(x)\n",
        "z = np.linspace(-np.pi, np.pi, 16)\n",
        "\n",
        "p.scatter(x, y, z, s=50, c='#FF0000', alpha=0.5)\n",
        "p.set_zlabel('Z')\n",
        "p.set_ylabel('Y')\n",
        "p.set_xlabel('X')\n",
        "plt.show()"
      ]
    },
    {
      "cell_type": "markdown",
      "id": "47e42544-995b-44e2-b907-dcf29f3384ba",
      "metadata": {},
      "source": [
        "## 柱状图"
      ]
    },
    {
      "cell_type": "code",
      "execution_count": null,
      "id": "d63514f2-b4fb-4a83-97cf-c51d20b90003",
      "metadata": {},
      "outputs": [],
      "source": [
        "import numpy as np\n",
        "import matplotlib.pyplot as plt\n",
        "plt.style.use('seaborn')\n",
        "\n",
        "X = np.arange(5) + 1\n",
        "Y = np.array([0.5, 0.67, 0.71, 0.56, 0.8])\n",
        "\n",
        "\n",
        "plt.bar(X, Y, tick_label=['I', 'II', 'III', 'IV', 'V'])\n",
        "# 在柱状图上标记 y 轴大小\n",
        "for x, y in zip(X, Y):\n",
        "    plt.text(x, y, f'{y:.2}', ha='center', va='bottom')\n",
        "\n",
        "plt.show()"
      ]
    },
    {
      "cell_type": "markdown",
      "id": "1e9d5432-04e8-40db-b412-d60380ab19f4",
      "metadata": {},
      "source": [
        "**柱状图柱子的颜色**\n",
        "\n",
        "plt.bar 函数的 color 参数可以设置颜色; color 可以接受一个颜色, 也可以接受一个颜色数组"
      ]
    },
    {
      "cell_type": "code",
      "execution_count": null,
      "id": "ecfb7f83-6624-4266-9672-729dafffbede",
      "metadata": {},
      "outputs": [],
      "source": [
        "import numpy as np\n",
        "import matplotlib.pyplot as plt\n",
        "plt.style.use('seaborn')\n",
        "\n",
        "X = np.arange(5) + 1\n",
        "Y = np.array([0.5, 0.67, 0.71, 0.56, 0.8])\n",
        "\n",
        "\n",
        "plt.bar(X, Y, tick_label=['I', 'II', 'III', 'IV', 'V'], color=['pink', 'purple'])\n",
        "# 在柱状图上标记 y 轴大小\n",
        "for x, y in zip(X, Y):\n",
        "    plt.text(x, y, f'{y:.2}', ha='center', va='bottom')\n",
        "\n",
        "plt.show()"
      ]
    },
    {
      "cell_type": "markdown",
      "id": "d21a9921-46d2-4a64-874f-e835446305c5",
      "metadata": {},
      "source": [
        "**填充**\n",
        "\n",
        "plt.bar 函数的 hatch 参数可以填充样式, 可取值为: `/`, `\\`, `|`, `-`, `+`, `x`, `o`, `O`, `.`, `*`"
      ]
    },
    {
      "cell_type": "code",
      "execution_count": null,
      "id": "71931bd1-75b5-4cac-bd6d-dea9e0c5766d",
      "metadata": {},
      "outputs": [],
      "source": [
        "import numpy as np\n",
        "import matplotlib.pyplot as plt\n",
        "plt.style.use('seaborn')\n",
        "\n",
        "X = np.arange(5) + 1\n",
        "Y = np.array([0.5, 0.67, 0.71, 0.56, 0.8])\n",
        "\n",
        "\n",
        "plt.bar(X, Y, tick_label=['I', 'II', 'III', 'IV', 'V'], hatch='/')\n",
        "# 在柱状图上标记 y 轴大小\n",
        "for x, y in zip(X, Y):\n",
        "    plt.text(x, y, f'{y:.2}', ha='center', va='bottom')\n",
        "\n",
        "plt.show()"
      ]
    },
    {
      "cell_type": "markdown",
      "id": "ab6d5441-eef6-437f-ad75-021890c1d0e8",
      "metadata": {},
      "source": [
        "**柱状图堆叠**\n",
        "\n",
        "使用 bottom 参数堆叠柱状图"
      ]
    },
    {
      "cell_type": "code",
      "execution_count": null,
      "id": "60be7e11-67e5-4b30-ad78-e5fa530707cf",
      "metadata": {},
      "outputs": [],
      "source": [
        "import numpy as np\n",
        "import matplotlib.pyplot as plt\n",
        "plt.style.use('seaborn')\n",
        "\n",
        "X = np.arange(5) + 1\n",
        "Y1 = np.array([0.5, 0.67, 0.71, 0.56, 0.8])\n",
        "Y2 = np.random.random(5)\n",
        "\n",
        "plt.bar(X, Y1, tick_label=['I', 'II', 'III', 'IV', 'V'], label='Y1')\n",
        "plt.bar(X, Y2, bottom=Y1, label='Y2')\n",
        "\n",
        "plt.legend()\n",
        "plt.show()"
      ]
    },
    {
      "cell_type": "markdown",
      "id": "a15a689f-1eae-42bc-8336-92e33f759ada",
      "metadata": {},
      "source": [
        "**柱状图并列**\n",
        "\n",
        "设置柱状图的 bar_width 实现柱状图并列"
      ]
    },
    {
      "cell_type": "code",
      "execution_count": null,
      "id": "f1f181f6-07ed-4b53-a053-b337b442ef03",
      "metadata": {},
      "outputs": [],
      "source": [
        "import numpy as np\n",
        "import matplotlib.pyplot as plt\n",
        "plt.style.use('seaborn')\n",
        "\n",
        "bar_width = 0.8 / 2\n",
        "\n",
        "X1 = np.arange(5) + 1\n",
        "Y1 = np.random.random(5)\n",
        "X2 = X1 + bar_width\n",
        "Y2 = np.random.random(5)\n",
        "\n",
        "plt.bar(X1, Y1, bar_width)\n",
        "plt.bar(X2, Y2, bar_width)\n",
        "plt.xticks(X1+bar_width / 2, ['I', 'II', 'III', 'IV', 'V'])\n",
        "plt.show()"
      ]
    },
    {
      "cell_type": "markdown",
      "id": "5bb71331-a4f7-4a18-b626-c1f6e63ad0d3",
      "metadata": {},
      "source": [
        "**条状图**\n",
        "\n",
        "条状图与柱状图基本类似. 经常用于对候选人进行计票."
      ]
    },
    {
      "cell_type": "code",
      "execution_count": null,
      "id": "122ed443-911e-4053-8db5-69cec53cbb4e",
      "metadata": {},
      "outputs": [],
      "source": [
        "import numpy as np\n",
        "import matplotlib.pyplot as plt\n",
        "plt.style.use('seaborn')\n",
        "\n",
        "X = np.arange(5) + 1\n",
        "Y = np.random.random(5)\n",
        "\n",
        "p = plt.subplot()\n",
        "p.barh(X, Y)\n",
        "p.set_yticks(X)\n",
        "p.set_yticklabels(['I', 'II', 'III', 'IV', 'V'])\n",
        "\n",
        "plt.show()"
      ]
    },
    {
      "cell_type": "markdown",
      "id": "5cbd6535-a437-4598-96aa-c376cdbbfc1b",
      "metadata": {},
      "source": [
        "## 饼图\n",
        "\n",
        "**饼图**"
      ]
    },
    {
      "cell_type": "code",
      "execution_count": null,
      "id": "4c2f09d0-d9c1-45b6-bc4d-6867287b3ec4",
      "metadata": {},
      "outputs": [],
      "source": [
        "import matplotlib.pyplot as plt\n",
        "plt.style.use('seaborn')\n",
        "\n",
        "X = [15, 30, 45, 10]\n",
        "labels = 'I', 'II', 'III', 'IV'\n",
        "\n",
        "plt.pie(X, labels=labels, autopct='%1.1f%%', startangle=90)\n",
        "plt.show()"
      ]
    },
    {
      "cell_type": "markdown",
      "id": "8b6d08f0-ff0c-466b-bc0c-d8bc8b279284",
      "metadata": {},
      "source": [
        "**饼图部分强调**"
      ]
    },
    {
      "cell_type": "code",
      "execution_count": null,
      "id": "13df9f0e-b7b6-43c7-a6bd-c0fe4ee2980e",
      "metadata": {},
      "outputs": [],
      "source": [
        "import matplotlib.pyplot as plt\n",
        "plt.style.use('seaborn')\n",
        "\n",
        "X = [15, 30, 45, 10]\n",
        "labels = 'I', 'II', 'III', 'IV'\n",
        "explode = [0, 0.1, 0, 0]\n",
        "\n",
        "# explode 参数可以强调数据\n",
        "plt.pie(X, explode=explode, labels=labels, autopct='%1.1f%%', startangle=90)\n",
        "plt.axis('equal')\n",
        "plt.show()"
      ]
    },
    {
      "cell_type": "markdown",
      "id": "110ac700-66f5-40c3-958f-54ecc5262091",
      "metadata": {},
      "source": [
        "## 配色\n",
        "\n",
        "我们可以做一些更好的事情来保护读者的眼睛, 比如用比较齁人的马卡龙色\n",
        "\n",
        "![img](https://p1-tt.byteimg.com/origin/pgc-image/fbfbb2b4e9c54d379b7d7f6764781bb1.jpg)\n",
        "\n",
        "- <code style=\"color: #19CAAD; background-color: #19CAAD\">#19CAAD</code> `#19CAAD`\n",
        "- <code style=\"color: #8CC7B5; background-color: #8CC7B5\">#8CC7B5</code> `#8CC7B5`\n",
        "- <code style=\"color: #A0EEE1; background-color: #A0EEE1\">#A0EEE1</code> `#A0EEE1`\n",
        "- <code style=\"color: #BEE7E9; background-color: #BEE7E9\">#BEE7E9</code> `#BEE7E9`\n",
        "- <code style=\"color: #BEEDC7; background-color: #BEEDC7\">#BEEDC7</code> `#BEEDC7`\n",
        "- <code style=\"color: #D6D5B7; background-color: #D6D5B7\">#D6D5B7</code> `#D6D5B7`\n",
        "- <code style=\"color: #D1BA74; background-color: #D1BA74\">#D1BA74</code> `#D1BA74`\n",
        "- <code style=\"color: #E6CEAC; background-color: #E6CEAC\">#E6CEAC</code> `#E6CEAC`\n",
        "- <code style=\"color: #ECAD9E; background-color: #ECAD9E\">#ECAD9E</code> `#ECAD9E`\n",
        "- <code style=\"color: #F4606C; background-color: #F4606C\">#F4606C</code> `#F4606C`\n"
      ]
    },
    {
      "cell_type": "code",
      "execution_count": null,
      "id": "8d7486c8-d19b-44d4-beab-d1f3547d88e1",
      "metadata": {},
      "outputs": [],
      "source": []
    }
  ],
  "metadata": {
    "kernelspec": {
      "display_name": "Pyolite",
      "language": "python",
      "name": "python"
    },
    "language_info": {
      "codemirror_mode": {
        "name": "python",
        "version": 3
      },
      "file_extension": ".py",
      "mimetype": "text/x-python",
      "name": "python",
      "nbconvert_exporter": "python",
      "pygments_lexer": "ipython3",
      "version": "3.8"
    }
  },
  "nbformat": 4,
  "nbformat_minor": 5
}
